{
 "cells": [
  {
   "cell_type": "markdown",
   "id": "20e0fc30",
   "metadata": {},
   "source": [
    "# Lab\n",
    "\n",
    "    Partially replicate the results of Sterneck et al. 2021"
   ]
  },
  {
   "cell_type": "markdown",
   "id": "61048f47",
   "metadata": {},
   "source": [
    "# Background - The Voynich Manuscript\n",
    "\n",
    "The Voynich manuscript is a ~15<sup>th</sup> century manuscript of around 200 pages with handwritten text and illustrations.\n",
    "\n",
    "<img src=\"Voynich_Manuscript_(32).jpg\" style=\"width: 30em\" />\n",
    "Figure from Wikipedia\n",
    "\n",
    "It is written in a script commonly called \"Voynichese\" that no one recognizes, and to my knowledge no one has convincingly translated it. \n",
    "\n",
    "It's not even entirely clear what it's about or who wrote it. For all we know, it might be enchiphered or a total hoax.\n",
    "\n",
    "Despite this, it is an object of academic curiosity and previous attempts have been made by code-breakers to decipher its contents.\n",
    "\n",
    "Among the current body of work on the manuscript, some results\n",
    "\n",
    "    1.) Currier (1976) found that you can split the manuscript into 2 languages/dialects, Currier A and Currier B, where symbol groups occur in one, but not the other.\n",
    "    \n",
    "    2.) The manuscript has been transcribed for ease of analysis many times. The one the paper uses is done by Takeshi Takahashi and is available online.\n",
    "    \n",
    "    3.) Fagin (2020) posited that the manuscript was written by 5 authors (\"scribes\" or \"hands\" in the paper) based on glyph shapes. \n",
    "\n",
    "In more recent times, people have started studing it using data-mining techniques, including some we went over in the lecture."
   ]
  },
  {
   "cell_type": "markdown",
   "id": "2dd49001",
   "metadata": {},
   "source": [
    "# Paper\n",
    "\n",
    "The paper attempts topic modeling, clustering of words and subjects, on the Voynich manuscript.\n",
    "\n",
    "Based on the illustrations there are some identifiable topics in the manuscript, including: botany, astrology, pharmaceuticals, etc. \n",
    "\n",
    "The goal is to see if the text, unintelligible though it may be, generally corresponds to those topics.\n",
    "\n",
    "In the paper, they first take the Takahashi transcription and vectorize the text as in bag-of-words and TF-IDF.\n",
    "\n",
    "Then they perform clustering using a variety of methods including latent dirichlet allocation, latent semantic analysis, and Non-negative matrix factorization, with varying degrees of success.\n",
    "\n",
    "The main result is that the topics identified with NMF seem to correspond with the illustrations/scribes, and is evidence that the manuscript is actually describing them rather than being a hoax."
   ]
  },
  {
   "cell_type": "markdown",
   "id": "0a4d23da",
   "metadata": {},
   "source": [
    "# Goals\n",
    "\n",
    "    Basic: \n",
    "\n",
    "Find a copy of the transcribed manuscript (it should take you 1-2 google searches).\n",
    "    \n",
    "Recreate their TF-IDF and NMF analysis. \n",
    "\n",
    "Specifically, quantitatively prove that there are indeed approximately 6 topics.\n",
    "\n",
    "Then recreate figure 7.\n",
    "    \n",
    "    Advanced:\n",
    "\n",
    "1.) Recreate figures 9 and 11.\n",
    "\n",
    "2.) Find a corpus of documents of comparable size that has translations in multiple languages (like UN documents or the Bible). \n",
    "    \n",
    "Pick at least 2 common languages, vectorize them including bigrams and trigrams, then compare it to the Voynich manuscript via histograms as well as the [pointwise mutual information](https://en.wikipedia.org/wiki/Pointwise_mutual_information)\n",
    "    \n",
    "Interpret the results.\n",
    "    \n",
    "3.) Calculate the cosine similarity between all folios (every 2 pages, non-overlapping).\n",
    "\n",
    "Plot the result as a heatmap, and interpret the results.\n",
    "\n",
    "When you do this, organize the results by topics you found. The result should look something like the figure below\n",
    "\n",
    "<img src=\"folio.png\" style=\"width: 30em\" />"
   ]
  },
  {
   "cell_type": "markdown",
   "id": "ca41f9fe",
   "metadata": {},
   "source": [
    "# Optional Followup\n",
    "\n",
    "**word2vec** \n",
    "\n",
    "As a language with no clear meaning to anyone, you should naturally gravitate to using `word2vec` because in that framework, the computer never understands the language anyway yet manages to assign semantic meaning based on math.\n",
    "\n",
    "[Here](https://github.com/viking-sudo-rm/voynich2vec?tab=readme-ov-file) is a repository on exactly that.\n",
    "\n",
    "Furthermore, you can do more dimensionality reduction on this vectorization such as in [here](https://www.fmjlang.co.uk/voynich/VoynichWordsPCA.html) where they used PCA.\n",
    "\n",
    "One result they got was that the Currier languages (A and B) aren't fully distinct; there is a gradual transition from one into the other."
   ]
  },
  {
   "cell_type": "code",
   "execution_count": null,
   "id": "697f2f37",
   "metadata": {},
   "outputs": [],
   "source": []
  }
 ],
 "metadata": {
  "kernelspec": {
   "display_name": "Python 3 (ipykernel)",
   "language": "python",
   "name": "python3"
  },
  "language_info": {
   "codemirror_mode": {
    "name": "ipython",
    "version": 3
   },
   "file_extension": ".py",
   "mimetype": "text/x-python",
   "name": "python",
   "nbconvert_exporter": "python",
   "pygments_lexer": "ipython3",
   "version": "3.9.6"
  }
 },
 "nbformat": 4,
 "nbformat_minor": 5
}
